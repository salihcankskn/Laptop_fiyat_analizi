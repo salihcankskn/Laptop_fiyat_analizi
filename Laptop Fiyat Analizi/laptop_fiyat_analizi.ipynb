{
 "cells": [
  {
   "cell_type": "markdown",
   "metadata": {},
   "source": [
    "# Laptop Özelliklerinin Fiyatlandırmaya Etkisi \n",
    "\n",
    "### Amaç :\n",
    "Bu projeni amacı bir laptop veri setini kullanıp analizler yaparak fiyat tahmini yapabilecek bir model geliştirmek.\n",
    "### Özet :\n",
    "Öncelikle veri setimizi inceledik. Ham veride eksik olup olmadığını kontrol ettik.Verimizi işlemek\n",
    "için gereksiz eklerden (gb,kg vb.) kurtulduk ve verileri sayısal değerlere indirgedik. Bu değerleri \n",
    "yeni sutunlar açarak listeledik. Verileri görselleştirip anlamlar çıkardık ve son olarak farklı modeller oluşturup veri setimizin R2 ve RMSE değerlerini görerek en performanslı modeli belirledik.\n",
    "\n",
    "#### Not:\n",
    "Projeyi Anaconda üzerinden açmanızı tavsiye ediyorum. Anaconda içerisinde hazır bulunan kütüphaneler kullandım."
   ]
  },
  {
   "cell_type": "code",
   "execution_count": 1,
   "metadata": {},
   "outputs": [],
   "source": [
    "import pandas as pd\n",
    "import matplotlib.pyplot as plt\n",
    "import seaborn as sns\n",
    "#Kütüphane kurulumları."
   ]
  },
  {
   "cell_type": "code",
   "execution_count": 2,
   "metadata": {},
   "outputs": [],
   "source": [
    "df = pd.read_csv('laptop_data.csv')"
   ]
  },
  {
   "cell_type": "markdown",
   "metadata": {},
   "source": [
    "### Veri Seti Özellikleri"
   ]
  },
  {
   "cell_type": "code",
   "execution_count": 3,
   "metadata": {},
   "outputs": [
    {
     "data": {
      "text/html": [
       "<div>\n",
       "<style scoped>\n",
       "    .dataframe tbody tr th:only-of-type {\n",
       "        vertical-align: middle;\n",
       "    }\n",
       "\n",
       "    .dataframe tbody tr th {\n",
       "        vertical-align: top;\n",
       "    }\n",
       "\n",
       "    .dataframe thead th {\n",
       "        text-align: right;\n",
       "    }\n",
       "</style>\n",
       "<table border=\"1\" class=\"dataframe\">\n",
       "  <thead>\n",
       "    <tr style=\"text-align: right;\">\n",
       "      <th></th>\n",
       "      <th>Unnamed: 0</th>\n",
       "      <th>Company</th>\n",
       "      <th>TypeName</th>\n",
       "      <th>Inches</th>\n",
       "      <th>ScreenResolution</th>\n",
       "      <th>Cpu</th>\n",
       "      <th>Ram</th>\n",
       "      <th>Memory</th>\n",
       "      <th>Gpu</th>\n",
       "      <th>OpSys</th>\n",
       "      <th>Weight</th>\n",
       "      <th>Price</th>\n",
       "    </tr>\n",
       "  </thead>\n",
       "  <tbody>\n",
       "    <tr>\n",
       "      <th>0</th>\n",
       "      <td>0</td>\n",
       "      <td>Apple</td>\n",
       "      <td>Ultrabook</td>\n",
       "      <td>13.3</td>\n",
       "      <td>IPS Panel Retina Display 2560x1600</td>\n",
       "      <td>Intel Core i5 2.3GHz</td>\n",
       "      <td>8GB</td>\n",
       "      <td>128GB SSD</td>\n",
       "      <td>Intel Iris Plus Graphics 640</td>\n",
       "      <td>macOS</td>\n",
       "      <td>1.37kg</td>\n",
       "      <td>71378.6832</td>\n",
       "    </tr>\n",
       "    <tr>\n",
       "      <th>1</th>\n",
       "      <td>1</td>\n",
       "      <td>Apple</td>\n",
       "      <td>Ultrabook</td>\n",
       "      <td>13.3</td>\n",
       "      <td>1440x900</td>\n",
       "      <td>Intel Core i5 1.8GHz</td>\n",
       "      <td>8GB</td>\n",
       "      <td>128GB Flash Storage</td>\n",
       "      <td>Intel HD Graphics 6000</td>\n",
       "      <td>macOS</td>\n",
       "      <td>1.34kg</td>\n",
       "      <td>47895.5232</td>\n",
       "    </tr>\n",
       "    <tr>\n",
       "      <th>2</th>\n",
       "      <td>2</td>\n",
       "      <td>HP</td>\n",
       "      <td>Notebook</td>\n",
       "      <td>15.6</td>\n",
       "      <td>Full HD 1920x1080</td>\n",
       "      <td>Intel Core i5 7200U 2.5GHz</td>\n",
       "      <td>8GB</td>\n",
       "      <td>256GB SSD</td>\n",
       "      <td>Intel HD Graphics 620</td>\n",
       "      <td>No OS</td>\n",
       "      <td>1.86kg</td>\n",
       "      <td>30636.0000</td>\n",
       "    </tr>\n",
       "    <tr>\n",
       "      <th>3</th>\n",
       "      <td>3</td>\n",
       "      <td>Apple</td>\n",
       "      <td>Ultrabook</td>\n",
       "      <td>15.4</td>\n",
       "      <td>IPS Panel Retina Display 2880x1800</td>\n",
       "      <td>Intel Core i7 2.7GHz</td>\n",
       "      <td>16GB</td>\n",
       "      <td>512GB SSD</td>\n",
       "      <td>AMD Radeon Pro 455</td>\n",
       "      <td>macOS</td>\n",
       "      <td>1.83kg</td>\n",
       "      <td>135195.3360</td>\n",
       "    </tr>\n",
       "    <tr>\n",
       "      <th>4</th>\n",
       "      <td>4</td>\n",
       "      <td>Apple</td>\n",
       "      <td>Ultrabook</td>\n",
       "      <td>13.3</td>\n",
       "      <td>IPS Panel Retina Display 2560x1600</td>\n",
       "      <td>Intel Core i5 3.1GHz</td>\n",
       "      <td>8GB</td>\n",
       "      <td>256GB SSD</td>\n",
       "      <td>Intel Iris Plus Graphics 650</td>\n",
       "      <td>macOS</td>\n",
       "      <td>1.37kg</td>\n",
       "      <td>96095.8080</td>\n",
       "    </tr>\n",
       "  </tbody>\n",
       "</table>\n",
       "</div>"
      ],
      "text/plain": [
       "   Unnamed: 0 Company   TypeName  Inches                    ScreenResolution  \\\n",
       "0           0   Apple  Ultrabook    13.3  IPS Panel Retina Display 2560x1600   \n",
       "1           1   Apple  Ultrabook    13.3                            1440x900   \n",
       "2           2      HP   Notebook    15.6                   Full HD 1920x1080   \n",
       "3           3   Apple  Ultrabook    15.4  IPS Panel Retina Display 2880x1800   \n",
       "4           4   Apple  Ultrabook    13.3  IPS Panel Retina Display 2560x1600   \n",
       "\n",
       "                          Cpu   Ram               Memory  \\\n",
       "0        Intel Core i5 2.3GHz   8GB            128GB SSD   \n",
       "1        Intel Core i5 1.8GHz   8GB  128GB Flash Storage   \n",
       "2  Intel Core i5 7200U 2.5GHz   8GB            256GB SSD   \n",
       "3        Intel Core i7 2.7GHz  16GB            512GB SSD   \n",
       "4        Intel Core i5 3.1GHz   8GB            256GB SSD   \n",
       "\n",
       "                            Gpu  OpSys  Weight        Price  \n",
       "0  Intel Iris Plus Graphics 640  macOS  1.37kg   71378.6832  \n",
       "1        Intel HD Graphics 6000  macOS  1.34kg   47895.5232  \n",
       "2         Intel HD Graphics 620  No OS  1.86kg   30636.0000  \n",
       "3            AMD Radeon Pro 455  macOS  1.83kg  135195.3360  \n",
       "4  Intel Iris Plus Graphics 650  macOS  1.37kg   96095.8080  "
      ]
     },
     "execution_count": 3,
     "metadata": {},
     "output_type": "execute_result"
    }
   ],
   "source": [
    "df.head()\n",
    "#Veri setinin ilk 5 satırı görüntülenir"
   ]
  },
  {
   "cell_type": "code",
   "execution_count": 4,
   "metadata": {},
   "outputs": [
    {
     "data": {
      "text/plain": [
       "Index(['Unnamed: 0', 'Company', 'TypeName', 'Inches', 'ScreenResolution',\n",
       "       'Cpu', 'Ram', 'Memory', 'Gpu', 'OpSys', 'Weight', 'Price'],\n",
       "      dtype='object')"
      ]
     },
     "execution_count": 4,
     "metadata": {},
     "output_type": "execute_result"
    }
   ],
   "source": [
    "df.columns\n",
    "#Veri setindeki sütunları listeler"
   ]
  },
  {
   "cell_type": "code",
   "execution_count": 5,
   "metadata": {},
   "outputs": [
    {
     "data": {
      "text/plain": [
       "(1303, 12)"
      ]
     },
     "execution_count": 5,
     "metadata": {},
     "output_type": "execute_result"
    }
   ],
   "source": [
    "df.shape\n",
    "#Veri setinin şeklini (satır ve sütun) saylarını verir."
   ]
  },
  {
   "cell_type": "code",
   "execution_count": 6,
   "metadata": {},
   "outputs": [
    {
     "data": {
      "text/plain": [
       "Unnamed: 0            int64\n",
       "Company              object\n",
       "TypeName             object\n",
       "Inches              float64\n",
       "ScreenResolution     object\n",
       "Cpu                  object\n",
       "Ram                  object\n",
       "Memory               object\n",
       "Gpu                  object\n",
       "OpSys                object\n",
       "Weight               object\n",
       "Price               float64\n",
       "dtype: object"
      ]
     },
     "execution_count": 6,
     "metadata": {},
     "output_type": "execute_result"
    }
   ],
   "source": [
    "df.dtypes\n",
    "#Veri setinde bulunan sütunların veri tiplerini gösteriyor."
   ]
  },
  {
   "cell_type": "code",
   "execution_count": 7,
   "metadata": {},
   "outputs": [
    {
     "data": {
      "text/plain": [
       "Unnamed: 0          0\n",
       "Company             0\n",
       "TypeName            0\n",
       "Inches              0\n",
       "ScreenResolution    0\n",
       "Cpu                 0\n",
       "Ram                 0\n",
       "Memory              0\n",
       "Gpu                 0\n",
       "OpSys               0\n",
       "Weight              0\n",
       "Price               0\n",
       "dtype: int64"
      ]
     },
     "execution_count": 7,
     "metadata": {},
     "output_type": "execute_result"
    }
   ],
   "source": [
    "df.isnull().sum()\n",
    "#Verinin sütunlarında boş doğer var mı yok mu var ise de toplamlarını veriyor."
   ]
  },
  {
   "cell_type": "code",
   "execution_count": 8,
   "metadata": {},
   "outputs": [
    {
     "data": {
      "text/plain": [
       "<Axes: >"
      ]
     },
     "execution_count": 8,
     "metadata": {},
     "output_type": "execute_result"
    },
    {
     "data": {
      "image/png": "[encoded data removed]",
      "text/plain": [
       "<Figure size 640x480 with 1 Axes>"
      ]
     },
     "metadata": {},
     "output_type": "display_data"
    }
   ],
   "source": [
    "sns.set_theme()\n",
    "sns.heatmap(df.isnull(), cbar=False)\n",
    "#Verinin sütunlarında bulunan boş değerleri grafikleştiriyor. Veride boş olmadığının sağğlamasını yapıyoruz."
   ]
  },
  {
   "cell_type": "code",
   "execution_count": 9,
   "metadata": {},
   "outputs": [
    {
     "name": "stdout",
     "output_type": "stream",
     "text": [
      "<class 'pandas.core.frame.DataFrame'>\n",
      "RangeIndex: 1303 entries, 0 to 1302\n",
      "Data columns (total 12 columns):\n",
      " #   Column            Non-Null Count  Dtype  \n",
      "---  ------            --------------  -----  \n",
      " 0   Unnamed: 0        1303 non-null   int64  \n",
      " 1   Company           1303 non-null   object \n",
      " 2   TypeName          1303 non-null   object \n",
      " 3   Inches            1303 non-null   float64\n",
      " 4   ScreenResolution  1303 non-null   object \n",
      " 5   Cpu               1303 non-null   object \n",
      " 6   Ram               1303 non-null   object \n",
      " 7   Memory            1303 non-null   object \n",
      " 8   Gpu               1303 non-null   object \n",
      " 9   OpSys             1303 non-null   object \n",
      " 10  Weight            1303 non-null   object \n",
      " 11  Price             1303 non-null   float64\n",
      "dtypes: float64(2), int64(1), object(9)\n",
      "memory usage: 122.3+ KB\n"
     ]
    }
   ],
   "source": [
    "df.info()\n",
    "#Veri hakkında temel bilgileri görüyoruz."
   ]
  },
  {
   "cell_type": "markdown",
   "metadata": {},
   "source": [
    "### Veri Ön İşleme ve EDA (Keşfedici veri analizi)"
   ]
  },
  {
   "cell_type": "code",
   "execution_count": 10,
   "metadata": {},
   "outputs": [
    {
     "data": {
      "text/plain": [
       "count     1303\n",
       "unique       9\n",
       "top        8GB\n",
       "freq       619\n",
       "Name: Ram, dtype: object"
      ]
     },
     "execution_count": 10,
     "metadata": {},
     "output_type": "execute_result"
    }
   ],
   "source": [
    "df[\"Ram\"].describe()\n",
    "#\"Ram\" sütununun bilgileri gösteriliyor."
   ]
  },
  {
   "cell_type": "code",
   "execution_count": 11,
   "metadata": {},
   "outputs": [
    {
     "name": "stderr",
     "output_type": "stream",
     "text": [
      "C:\\Users\\salih\\AppData\\Local\\Temp\\ipykernel_6056\\1238949139.py:1: FutureWarning: A value is trying to be set on a copy of a DataFrame or Series through chained assignment using an inplace method.\n",
      "The behavior will change in pandas 3.0. This inplace method will never work because the intermediate object on which we are setting values always behaves as a copy.\n",
      "\n",
      "For example, when doing 'df[col].method(value, inplace=True)', try using 'df.method({col: value}, inplace=True)' or df[col] = df[col].method(value) instead, to perform the operation inplace on the original object.\n",
      "\n",
      "\n",
      "  df[\"Ram\"].replace(\"GB\",\"\",regex=True, inplace=True)\n"
     ]
    }
   ],
   "source": [
    "df[\"Ram\"].replace(\"GB\",\"\",regex=True, inplace=True)\n",
    "df[\"Ram\"] = df[\"Ram\"].astype(\"float64\")\n",
    "#\"Ram\" sütununda bulunan \"GB\" ifadesini kaldıtrıyoruz ve sayısal bir tipe dönüştürüyoruz. İşlem yapabilmek için sayısal olamalı "
   ]
  },
  {
   "cell_type": "code",
   "execution_count": 12,
   "metadata": {},
   "outputs": [
    {
     "data": {
      "text/plain": [
       "count    1303.000000\n",
       "mean        8.382195\n",
       "std         5.084665\n",
       "min         2.000000\n",
       "25%         4.000000\n",
       "50%         8.000000\n",
       "75%         8.000000\n",
       "max        64.000000\n",
       "Name: Ram, dtype: float64"
      ]
     },
     "execution_count": 12,
     "metadata": {},
     "output_type": "execute_result"
    }
   ],
   "source": [
    "df[\"Ram\"].describe()\n",
    "#Ram sütununun uç değerlerine istatistiksel verilerine bakıyoruz."
   ]
  },
  {
   "cell_type": "code",
   "execution_count": 13,
   "metadata": {},
   "outputs": [
    {
     "data": {
      "text/plain": [
       "count      1303\n",
       "unique      179\n",
       "top       2.2kg\n",
       "freq        121\n",
       "Name: Weight, dtype: object"
      ]
     },
     "execution_count": 13,
     "metadata": {},
     "output_type": "execute_result"
    }
   ],
   "source": [
    "df[\"Weight\"].describe()\n",
    "#\"Weight\" sütununun bilgileri gösteriliyor."
   ]
  },
  {
   "cell_type": "code",
   "execution_count": 14,
   "metadata": {},
   "outputs": [
    {
     "name": "stderr",
     "output_type": "stream",
     "text": [
      "C:\\Users\\salih\\AppData\\Local\\Temp\\ipykernel_6056\\3370209191.py:1: FutureWarning: A value is trying to be set on a copy of a DataFrame or Series through chained assignment using an inplace method.\n",
      "The behavior will change in pandas 3.0. This inplace method will never work because the intermediate object on which we are setting values always behaves as a copy.\n",
      "\n",
      "For example, when doing 'df[col].method(value, inplace=True)', try using 'df.method({col: value}, inplace=True)' or df[col] = df[col].method(value) instead, to perform the operation inplace on the original object.\n",
      "\n",
      "\n",
      "  df[\"Weight\"].replace(\"kg\",\"\",regex=True, inplace=True)\n"
     ]
    }
   ],
   "source": [
    "df[\"Weight\"].replace(\"kg\",\"\",regex=True, inplace=True)\n",
    "df[\"Weight\"] = df[\"Weight\"].astype(\"float64\")\n",
    "#\"Weight\" sütununda bulunan \"kg\" ifadesini kaldıtrıyoruz ve sayısal bir tipe dönüştürüyoruz. İşlem yapabilmek için sayısal olamalı "
   ]
  },
  {
   "cell_type": "code",
   "execution_count": 15,
   "metadata": {},
   "outputs": [
    {
     "data": {
      "text/plain": [
       "count    1303.000000\n",
       "mean        2.038734\n",
       "std         0.665475\n",
       "min         0.690000\n",
       "25%         1.500000\n",
       "50%         2.040000\n",
       "75%         2.300000\n",
       "max         4.700000\n",
       "Name: Weight, dtype: float64"
      ]
     },
     "execution_count": 15,
     "metadata": {},
     "output_type": "execute_result"
    }
   ],
   "source": [
    "df[\"Weight\"].describe()\n",
    "#\"Weight\" sütununun uç değerlerine istatistiksel verilerine bakıyoruz."
   ]
  },
  {
   "cell_type": "code",
   "execution_count": 16,
   "metadata": {},
   "outputs": [
    {
     "data": {
      "text/plain": [
       "count    1303.000000\n",
       "mean       15.017191\n",
       "std         1.426304\n",
       "min        10.100000\n",
       "25%        14.000000\n",
       "50%        15.600000\n",
       "75%        15.600000\n",
       "max        18.400000\n",
       "Name: Inches, dtype: float64"
      ]
     },
     "execution_count": 16,
     "metadata": {},
     "output_type": "execute_result"
    }
   ],
   "source": [
    "df[\"Inches\"].describe()\n",
    "#Inches sütununa bakıyoruz zaten sayısal bir tip o nedenle bir dönüşüme ihtiyaç yok."
   ]
  },
  {
   "cell_type": "code",
   "execution_count": 17,
   "metadata": {},
   "outputs": [
    {
     "data": {
      "text/plain": [
       "Unnamed: 0            int64\n",
       "Company              object\n",
       "TypeName             object\n",
       "Inches              float64\n",
       "ScreenResolution     object\n",
       "Cpu                  object\n",
       "Ram                 float64\n",
       "Memory               object\n",
       "Gpu                  object\n",
       "OpSys                object\n",
       "Weight              float64\n",
       "Price               float64\n",
       "dtype: object"
      ]
     },
     "execution_count": 17,
     "metadata": {},
     "output_type": "execute_result"
    }
   ],
   "source": [
    "df.dtypes\n",
    "# Sütunlarımızın veri tiplerine bakıyoruz."
   ]
  },
  {
   "cell_type": "code",
   "execution_count": 18,
   "metadata": {},
   "outputs": [
    {
     "data": {
      "text/html": [
       "<div>\n",
       "<style scoped>\n",
       "    .dataframe tbody tr th:only-of-type {\n",
       "        vertical-align: middle;\n",
       "    }\n",
       "\n",
       "    .dataframe tbody tr th {\n",
       "        vertical-align: top;\n",
       "    }\n",
       "\n",
       "    .dataframe thead th {\n",
       "        text-align: right;\n",
       "    }\n",
       "</style>\n",
       "<table border=\"1\" class=\"dataframe\">\n",
       "  <thead>\n",
       "    <tr style=\"text-align: right;\">\n",
       "      <th></th>\n",
       "      <th>Unnamed: 0</th>\n",
       "      <th>Company</th>\n",
       "      <th>TypeName</th>\n",
       "      <th>Inches</th>\n",
       "      <th>ScreenResolution</th>\n",
       "      <th>Cpu</th>\n",
       "      <th>Ram</th>\n",
       "      <th>Memory</th>\n",
       "      <th>Gpu</th>\n",
       "      <th>OpSys</th>\n",
       "      <th>Weight</th>\n",
       "      <th>Price</th>\n",
       "      <th>Company_Numeric</th>\n",
       "    </tr>\n",
       "  </thead>\n",
       "  <tbody>\n",
       "    <tr>\n",
       "      <th>0</th>\n",
       "      <td>0</td>\n",
       "      <td>Apple</td>\n",
       "      <td>Ultrabook</td>\n",
       "      <td>13.3</td>\n",
       "      <td>IPS Panel Retina Display 2560x1600</td>\n",
       "      <td>Intel Core i5 2.3GHz</td>\n",
       "      <td>8.0</td>\n",
       "      <td>128GB SSD</td>\n",
       "      <td>Intel Iris Plus Graphics 640</td>\n",
       "      <td>macOS</td>\n",
       "      <td>1.37</td>\n",
       "      <td>71378.6832</td>\n",
       "      <td>14</td>\n",
       "    </tr>\n",
       "    <tr>\n",
       "      <th>1</th>\n",
       "      <td>1</td>\n",
       "      <td>Apple</td>\n",
       "      <td>Ultrabook</td>\n",
       "      <td>13.3</td>\n",
       "      <td>1440x900</td>\n",
       "      <td>Intel Core i5 1.8GHz</td>\n",
       "      <td>8.0</td>\n",
       "      <td>128GB Flash Storage</td>\n",
       "      <td>Intel HD Graphics 6000</td>\n",
       "      <td>macOS</td>\n",
       "      <td>1.34</td>\n",
       "      <td>47895.5232</td>\n",
       "      <td>14</td>\n",
       "    </tr>\n",
       "    <tr>\n",
       "      <th>2</th>\n",
       "      <td>2</td>\n",
       "      <td>HP</td>\n",
       "      <td>Notebook</td>\n",
       "      <td>15.6</td>\n",
       "      <td>Full HD 1920x1080</td>\n",
       "      <td>Intel Core i5 7200U 2.5GHz</td>\n",
       "      <td>8.0</td>\n",
       "      <td>256GB SSD</td>\n",
       "      <td>Intel HD Graphics 620</td>\n",
       "      <td>No OS</td>\n",
       "      <td>1.86</td>\n",
       "      <td>30636.0000</td>\n",
       "      <td>6</td>\n",
       "    </tr>\n",
       "    <tr>\n",
       "      <th>3</th>\n",
       "      <td>3</td>\n",
       "      <td>Apple</td>\n",
       "      <td>Ultrabook</td>\n",
       "      <td>15.4</td>\n",
       "      <td>IPS Panel Retina Display 2880x1800</td>\n",
       "      <td>Intel Core i7 2.7GHz</td>\n",
       "      <td>16.0</td>\n",
       "      <td>512GB SSD</td>\n",
       "      <td>AMD Radeon Pro 455</td>\n",
       "      <td>macOS</td>\n",
       "      <td>1.83</td>\n",
       "      <td>135195.3360</td>\n",
       "      <td>14</td>\n",
       "    </tr>\n",
       "    <tr>\n",
       "      <th>4</th>\n",
       "      <td>4</td>\n",
       "      <td>Apple</td>\n",
       "      <td>Ultrabook</td>\n",
       "      <td>13.3</td>\n",
       "      <td>IPS Panel Retina Display 2560x1600</td>\n",
       "      <td>Intel Core i5 3.1GHz</td>\n",
       "      <td>8.0</td>\n",
       "      <td>256GB SSD</td>\n",
       "      <td>Intel Iris Plus Graphics 650</td>\n",
       "      <td>macOS</td>\n",
       "      <td>1.37</td>\n",
       "      <td>96095.8080</td>\n",
       "      <td>14</td>\n",
       "    </tr>\n",
       "  </tbody>\n",
       "</table>\n",
       "</div>"
      ],
      "text/plain": [
       "   Unnamed: 0 Company   TypeName  Inches                    ScreenResolution  \\\n",
       "0           0   Apple  Ultrabook    13.3  IPS Panel Retina Display 2560x1600   \n",
       "1           1   Apple  Ultrabook    13.3                            1440x900   \n",
       "2           2      HP   Notebook    15.6                   Full HD 1920x1080   \n",
       "3           3   Apple  Ultrabook    15.4  IPS Panel Retina Display 2880x1800   \n",
       "4           4   Apple  Ultrabook    13.3  IPS Panel Retina Display 2560x1600   \n",
       "\n",
       "                          Cpu   Ram               Memory  \\\n",
       "0        Intel Core i5 2.3GHz   8.0            128GB SSD   \n",
       "1        Intel Core i5 1.8GHz   8.0  128GB Flash Storage   \n",
       "2  Intel Core i5 7200U 2.5GHz   8.0            256GB SSD   \n",
       "3        Intel Core i7 2.7GHz  16.0            512GB SSD   \n",
       "4        Intel Core i5 3.1GHz   8.0            256GB SSD   \n",
       "\n",
       "                            Gpu  OpSys  Weight        Price  Company_Numeric  \n",
       "0  Intel Iris Plus Graphics 640  macOS    1.37   71378.6832               14  \n",
       "1        Intel HD Graphics 6000  macOS    1.34   47895.5232               14  \n",
       "2         Intel HD Graphics 620  No OS    1.86   30636.0000                6  \n",
       "3            AMD Radeon Pro 455  macOS    1.83  135195.3360               14  \n",
       "4  Intel Iris Plus Graphics 650  macOS    1.37   96095.8080               14  "
      ]
     },
     "execution_count": 18,
     "metadata": {},
     "output_type": "execute_result"
    }
   ],
   "source": [
    "average_prices = df.groupby(\"Company\")[\"Price\"].mean().sort_values()\n",
    "\n",
    "# Markalara pahalılık sırasına göre sayısal değer atama\n",
    "ranking = {company: rank for rank, company in enumerate(average_prices.index, 1)}\n",
    "df[\"Company_Numeric\"] = df[\"Company\"].map(ranking)\n",
    "\n",
    "df.head()\n",
    "\n",
    "#\"Company\" yani markalar sütununda bulunan markaları ortalama fiyatlarına göre sıralıyoruz ve sayısal değer veriyoruz çıktılarımızı yeni bir sütun olarak ekliyoruz."
   ]
  },
  {
   "cell_type": "code",
   "execution_count": 19,
   "metadata": {},
   "outputs": [
    {
     "data": {
      "text/plain": [
       "count    1303.000000\n",
       "mean        8.170376\n",
       "std         3.052809\n",
       "min         1.000000\n",
       "25%         6.000000\n",
       "50%         7.000000\n",
       "75%        10.000000\n",
       "max        19.000000\n",
       "Name: Company_Numeric, dtype: float64"
      ]
     },
     "execution_count": 19,
     "metadata": {},
     "output_type": "execute_result"
    }
   ],
   "source": [
    "df[\"Company_Numeric\"].describe()\n",
    "#\"Company\" sütununun verilerini sayısal olaraka saklayan \"Company_Numeric\" sütununun değerlerine bakıyoruz."
   ]
  },
  {
   "cell_type": "code",
   "execution_count": 20,
   "metadata": {},
   "outputs": [
    {
     "data": {
      "text/html": [
       "<div>\n",
       "<style scoped>\n",
       "    .dataframe tbody tr th:only-of-type {\n",
       "        vertical-align: middle;\n",
       "    }\n",
       "\n",
       "    .dataframe tbody tr th {\n",
       "        vertical-align: top;\n",
       "    }\n",
       "\n",
       "    .dataframe thead th {\n",
       "        text-align: right;\n",
       "    }\n",
       "</style>\n",
       "<table border=\"1\" class=\"dataframe\">\n",
       "  <thead>\n",
       "    <tr style=\"text-align: right;\">\n",
       "      <th></th>\n",
       "      <th>Unnamed: 0</th>\n",
       "      <th>Company</th>\n",
       "      <th>TypeName</th>\n",
       "      <th>Inches</th>\n",
       "      <th>ScreenResolution</th>\n",
       "      <th>Cpu</th>\n",
       "      <th>Ram</th>\n",
       "      <th>Memory</th>\n",
       "      <th>Gpu</th>\n",
       "      <th>OpSys</th>\n",
       "      <th>Weight</th>\n",
       "      <th>Price</th>\n",
       "      <th>Company_Numeric</th>\n",
       "    </tr>\n",
       "  </thead>\n",
       "  <tbody>\n",
       "    <tr>\n",
       "      <th>0</th>\n",
       "      <td>0</td>\n",
       "      <td>Apple</td>\n",
       "      <td>Ultrabook</td>\n",
       "      <td>13.3</td>\n",
       "      <td>IPS Panel Retina Display 2560x1600</td>\n",
       "      <td>Intel Core i5 2.3GHz</td>\n",
       "      <td>8.0</td>\n",
       "      <td>128GB SSD</td>\n",
       "      <td>Intel Iris Plus Graphics 640</td>\n",
       "      <td>macOS</td>\n",
       "      <td>1.37</td>\n",
       "      <td>71378.6832</td>\n",
       "      <td>14</td>\n",
       "    </tr>\n",
       "    <tr>\n",
       "      <th>1</th>\n",
       "      <td>1</td>\n",
       "      <td>Apple</td>\n",
       "      <td>Ultrabook</td>\n",
       "      <td>13.3</td>\n",
       "      <td>1440x900</td>\n",
       "      <td>Intel Core i5 1.8GHz</td>\n",
       "      <td>8.0</td>\n",
       "      <td>128GB Flash Storage</td>\n",
       "      <td>Intel HD Graphics 6000</td>\n",
       "      <td>macOS</td>\n",
       "      <td>1.34</td>\n",
       "      <td>47895.5232</td>\n",
       "      <td>14</td>\n",
       "    </tr>\n",
       "    <tr>\n",
       "      <th>2</th>\n",
       "      <td>2</td>\n",
       "      <td>HP</td>\n",
       "      <td>Notebook</td>\n",
       "      <td>15.6</td>\n",
       "      <td>Full HD 1920x1080</td>\n",
       "      <td>Intel Core i5 7200U 2.5GHz</td>\n",
       "      <td>8.0</td>\n",
       "      <td>256GB SSD</td>\n",
       "      <td>Intel HD Graphics 620</td>\n",
       "      <td>No OS</td>\n",
       "      <td>1.86</td>\n",
       "      <td>30636.0000</td>\n",
       "      <td>6</td>\n",
       "    </tr>\n",
       "    <tr>\n",
       "      <th>3</th>\n",
       "      <td>3</td>\n",
       "      <td>Apple</td>\n",
       "      <td>Ultrabook</td>\n",
       "      <td>15.4</td>\n",
       "      <td>IPS Panel Retina Display 2880x1800</td>\n",
       "      <td>Intel Core i7 2.7GHz</td>\n",
       "      <td>16.0</td>\n",
       "      <td>512GB SSD</td>\n",
       "      <td>AMD Radeon Pro 455</td>\n",
       "      <td>macOS</td>\n",
       "      <td>1.83</td>\n",
       "      <td>135195.3360</td>\n",
       "      <td>14</td>\n",
       "    </tr>\n",
       "    <tr>\n",
       "      <th>4</th>\n",
       "      <td>4</td>\n",
       "      <td>Apple</td>\n",
       "      <td>Ultrabook</td>\n",
       "      <td>13.3</td>\n",
       "      <td>IPS Panel Retina Display 2560x1600</td>\n",
       "      <td>Intel Core i5 3.1GHz</td>\n",
       "      <td>8.0</td>\n",
       "      <td>256GB SSD</td>\n",
       "      <td>Intel Iris Plus Graphics 650</td>\n",
       "      <td>macOS</td>\n",
       "      <td>1.37</td>\n",
       "      <td>96095.8080</td>\n",
       "      <td>14</td>\n",
       "    </tr>\n",
       "  </tbody>\n",
       "</table>\n",
       "</div>"
      ],
      "text/plain": [
       "   Unnamed: 0 Company   TypeName  Inches                    ScreenResolution  \\\n",
       "0           0   Apple  Ultrabook    13.3  IPS Panel Retina Display 2560x1600   \n",
       "1           1   Apple  Ultrabook    13.3                            1440x900   \n",
       "2           2      HP   Notebook    15.6                   Full HD 1920x1080   \n",
       "3           3   Apple  Ultrabook    15.4  IPS Panel Retina Display 2880x1800   \n",
       "4           4   Apple  Ultrabook    13.3  IPS Panel Retina Display 2560x1600   \n",
       "\n",
       "                          Cpu   Ram               Memory  \\\n",
       "0        Intel Core i5 2.3GHz   8.0            128GB SSD   \n",
       "1        Intel Core i5 1.8GHz   8.0  128GB Flash Storage   \n",
       "2  Intel Core i5 7200U 2.5GHz   8.0            256GB SSD   \n",
       "3        Intel Core i7 2.7GHz  16.0            512GB SSD   \n",
       "4        Intel Core i5 3.1GHz   8.0            256GB SSD   \n",
       "\n",
       "                            Gpu  OpSys  Weight        Price  Company_Numeric  \n",
       "0  Intel Iris Plus Graphics 640  macOS    1.37   71378.6832               14  \n",
       "1        Intel HD Graphics 6000  macOS    1.34   47895.5232               14  \n",
       "2         Intel HD Graphics 620  No OS    1.86   30636.0000                6  \n",
       "3            AMD Radeon Pro 455  macOS    1.83  135195.3360               14  \n",
       "4  Intel Iris Plus Graphics 650  macOS    1.37   96095.8080               14  "
      ]
     },
     "execution_count": 20,
     "metadata": {},
     "output_type": "execute_result"
    }
   ],
   "source": [
    "df.head()\n",
    "#İlk beş satırı listeliyoruz."
   ]
  },
  {
   "cell_type": "code",
   "execution_count": 21,
   "metadata": {},
   "outputs": [
    {
     "name": "stdout",
     "output_type": "stream",
     "text": [
      "                    Memory  Total_Capacity  Capacity_Rank\n",
      "0                  8GB SSD               8              1\n",
      "1                 16GB SSD              16              2\n",
      "2       16GB Flash Storage              16              2\n",
      "3       16GB Flash Storage              16              2\n",
      "4       16GB Flash Storage              16              2\n",
      "...                    ...             ...            ...\n",
      "1298  256GB SSD +  2TB HDD            2304             21\n",
      "1299  256GB SSD +  2TB HDD            2304             21\n",
      "1300  512GB SSD +  2TB HDD            2560             22\n",
      "1301  512GB SSD +  2TB HDD            2560             22\n",
      "1302  512GB SSD +  2TB HDD            2560             22\n",
      "\n",
      "[1303 rows x 3 columns]\n"
     ]
    }
   ],
   "source": [
    "import re\n",
    "\n",
    "# Toplam kapasiteyi hesaplayan fonksiyon\n",
    "def calculate_total_memory(memory):\n",
    "    total_memory = 0\n",
    "    for part in memory.split('+'):\n",
    "        part = part.strip()\n",
    "        if 'TB' in part:  # TB'yi GB'ye çevir\n",
    "            total_memory += int(re.search(r'\\d+', part).group()) * 1024\n",
    "        elif 'GB' in part:  # GB'yi doğrudan al\n",
    "            total_memory += int(re.search(r'\\d+', part).group())\n",
    "    return total_memory\n",
    "\n",
    "# Toplam kapasite (GB cinsinden)\n",
    "df['Total_Capacity'] = df['Memory'].apply(calculate_total_memory)\n",
    "\n",
    "# Kapasiteye göre küçükten büyüğe sıralama (kapasite arttıkça rank artar)\n",
    "df['Capacity_Rank'] = df['Total_Capacity'].rank(method='dense', ascending=True).astype(int)\n",
    "\n",
    "# Verileri küçükten büyüğe sıralama\n",
    "df = df.sort_values(by='Total_Capacity', ascending=True).reset_index(drop=True)\n",
    "\n",
    "print(df[['Memory', 'Total_Capacity', 'Capacity_Rank']])\n",
    "\n",
    "#\"Memory\" sütununda ssd hdd vb. değerler karmaşık olduğu ve fiyata göre doğru değer vermeyeceğinden toplam kapasiteyi hesaplayan bir fonksiyon yazıyoruz ve aynı şekilde sayısal değerler atıyarak listeliyoruz.\n"
   ]
  },
  {
   "cell_type": "code",
   "execution_count": 22,
   "metadata": {},
   "outputs": [
    {
     "data": {
      "text/html": [
       "<div>\n",
       "<style scoped>\n",
       "    .dataframe tbody tr th:only-of-type {\n",
       "        vertical-align: middle;\n",
       "    }\n",
       "\n",
       "    .dataframe tbody tr th {\n",
       "        vertical-align: top;\n",
       "    }\n",
       "\n",
       "    .dataframe thead th {\n",
       "        text-align: right;\n",
       "    }\n",
       "</style>\n",
       "<table border=\"1\" class=\"dataframe\">\n",
       "  <thead>\n",
       "    <tr style=\"text-align: right;\">\n",
       "      <th></th>\n",
       "      <th>Unnamed: 0</th>\n",
       "      <th>Company</th>\n",
       "      <th>TypeName</th>\n",
       "      <th>Inches</th>\n",
       "      <th>ScreenResolution</th>\n",
       "      <th>Cpu</th>\n",
       "      <th>Ram</th>\n",
       "      <th>Memory</th>\n",
       "      <th>Gpu</th>\n",
       "      <th>OpSys</th>\n",
       "      <th>Weight</th>\n",
       "      <th>Price</th>\n",
       "      <th>Company_Numeric</th>\n",
       "      <th>Total_Capacity</th>\n",
       "      <th>Capacity_Rank</th>\n",
       "    </tr>\n",
       "  </thead>\n",
       "  <tbody>\n",
       "    <tr>\n",
       "      <th>0</th>\n",
       "      <td>950</td>\n",
       "      <td>HP</td>\n",
       "      <td>Workstation</td>\n",
       "      <td>15.6</td>\n",
       "      <td>IPS Panel Full HD 1920x1080</td>\n",
       "      <td>Intel Core i7 6820HQ 2.7GHz</td>\n",
       "      <td>8.0</td>\n",
       "      <td>8GB SSD</td>\n",
       "      <td>Nvidia Quadro M1000M</td>\n",
       "      <td>Windows 10</td>\n",
       "      <td>2.00</td>\n",
       "      <td>119826.720</td>\n",
       "      <td>6</td>\n",
       "      <td>8</td>\n",
       "      <td>1</td>\n",
       "    </tr>\n",
       "    <tr>\n",
       "      <th>1</th>\n",
       "      <td>504</td>\n",
       "      <td>Lenovo</td>\n",
       "      <td>Netbook</td>\n",
       "      <td>11.6</td>\n",
       "      <td>1366x768</td>\n",
       "      <td>Intel Celeron Dual Core N3060 1.6GHz</td>\n",
       "      <td>4.0</td>\n",
       "      <td>16GB SSD</td>\n",
       "      <td>Intel HD Graphics 400</td>\n",
       "      <td>Chrome OS</td>\n",
       "      <td>1.25</td>\n",
       "      <td>14119.200</td>\n",
       "      <td>7</td>\n",
       "      <td>16</td>\n",
       "      <td>2</td>\n",
       "    </tr>\n",
       "    <tr>\n",
       "      <th>2</th>\n",
       "      <td>430</td>\n",
       "      <td>Samsung</td>\n",
       "      <td>Netbook</td>\n",
       "      <td>11.6</td>\n",
       "      <td>1366x768</td>\n",
       "      <td>Intel Celeron Dual Core N3060 1.6GHz</td>\n",
       "      <td>4.0</td>\n",
       "      <td>16GB Flash Storage</td>\n",
       "      <td>Intel HD Graphics 400</td>\n",
       "      <td>Chrome OS</td>\n",
       "      <td>1.15</td>\n",
       "      <td>14332.320</td>\n",
       "      <td>12</td>\n",
       "      <td>16</td>\n",
       "      <td>2</td>\n",
       "    </tr>\n",
       "    <tr>\n",
       "      <th>3</th>\n",
       "      <td>1049</td>\n",
       "      <td>Asus</td>\n",
       "      <td>Netbook</td>\n",
       "      <td>11.6</td>\n",
       "      <td>1366x768</td>\n",
       "      <td>Intel Celeron Dual Core N3060 1.6GHz</td>\n",
       "      <td>4.0</td>\n",
       "      <td>16GB Flash Storage</td>\n",
       "      <td>Intel HD Graphics 400</td>\n",
       "      <td>Chrome OS</td>\n",
       "      <td>1.20</td>\n",
       "      <td>15339.312</td>\n",
       "      <td>8</td>\n",
       "      <td>16</td>\n",
       "      <td>2</td>\n",
       "    </tr>\n",
       "    <tr>\n",
       "      <th>4</th>\n",
       "      <td>817</td>\n",
       "      <td>HP</td>\n",
       "      <td>Netbook</td>\n",
       "      <td>11.6</td>\n",
       "      <td>1366x768</td>\n",
       "      <td>Intel Celeron Dual Core N3060 1.6GHz</td>\n",
       "      <td>4.0</td>\n",
       "      <td>16GB Flash Storage</td>\n",
       "      <td>Intel HD Graphics 400</td>\n",
       "      <td>Chrome OS</td>\n",
       "      <td>1.23</td>\n",
       "      <td>20512.800</td>\n",
       "      <td>6</td>\n",
       "      <td>16</td>\n",
       "      <td>2</td>\n",
       "    </tr>\n",
       "  </tbody>\n",
       "</table>\n",
       "</div>"
      ],
      "text/plain": [
       "   Unnamed: 0  Company     TypeName  Inches             ScreenResolution  \\\n",
       "0         950       HP  Workstation    15.6  IPS Panel Full HD 1920x1080   \n",
       "1         504   Lenovo      Netbook    11.6                     1366x768   \n",
       "2         430  Samsung      Netbook    11.6                     1366x768   \n",
       "3        1049     Asus      Netbook    11.6                     1366x768   \n",
       "4         817       HP      Netbook    11.6                     1366x768   \n",
       "\n",
       "                                    Cpu  Ram              Memory  \\\n",
       "0           Intel Core i7 6820HQ 2.7GHz  8.0             8GB SSD   \n",
       "1  Intel Celeron Dual Core N3060 1.6GHz  4.0            16GB SSD   \n",
       "2  Intel Celeron Dual Core N3060 1.6GHz  4.0  16GB Flash Storage   \n",
       "3  Intel Celeron Dual Core N3060 1.6GHz  4.0  16GB Flash Storage   \n",
       "4  Intel Celeron Dual Core N3060 1.6GHz  4.0  16GB Flash Storage   \n",
       "\n",
       "                     Gpu       OpSys  Weight       Price  Company_Numeric  \\\n",
       "0   Nvidia Quadro M1000M  Windows 10    2.00  119826.720                6   \n",
       "1  Intel HD Graphics 400   Chrome OS    1.25   14119.200                7   \n",
       "2  Intel HD Graphics 400   Chrome OS    1.15   14332.320               12   \n",
       "3  Intel HD Graphics 400   Chrome OS    1.20   15339.312                8   \n",
       "4  Intel HD Graphics 400   Chrome OS    1.23   20512.800                6   \n",
       "\n",
       "   Total_Capacity  Capacity_Rank  \n",
       "0               8              1  \n",
       "1              16              2  \n",
       "2              16              2  \n",
       "3              16              2  \n",
       "4              16              2  "
      ]
     },
     "execution_count": 22,
     "metadata": {},
     "output_type": "execute_result"
    }
   ],
   "source": [
    "df.head()\n",
    "#veri setinin ilk 5 satırı"
   ]
  },
  {
   "cell_type": "code",
   "execution_count": 23,
   "metadata": {},
   "outputs": [
    {
     "name": "stdout",
     "output_type": "stream",
     "text": [
      "                                       Cpu  Cpu_Numeric\n",
      "52             AMD E-Series E2-6110 1.5GHz            1\n",
      "21             Intel Atom X5-Z8350 1.44GHz            2\n",
      "5     Intel Celeron Dual Core 3205U 1.5GHz            3\n",
      "18             Intel Atom x5-Z8350 1.44GHz            4\n",
      "65             Intel Atom x5-Z8300 1.44GHz            5\n",
      "...                                    ...          ...\n",
      "1255           Intel Core i7 6920HQ 2.9GHz          114\n",
      "805                   Intel Core i7 2.9GHz          115\n",
      "533            Intel Core i7 7820HK 2.9GHz          116\n",
      "254          Intel Xeon E3-1535M v5 2.9GHz          117\n",
      "990          Intel Xeon E3-1535M v6 3.1GHz          118\n",
      "\n",
      "[118 rows x 2 columns]\n"
     ]
    }
   ],
   "source": [
    "\n",
    "average_price_by_os = df.groupby(\"Cpu\")[\"Price\"].mean().sort_values()\n",
    "\n",
    "\n",
    "cp_ranking = {os: rank for rank, os in enumerate(average_price_by_os.index, 1)}\n",
    "df[\"Cpu_Numeric\"] = df[\"Cpu\"].map(cp_ranking)\n",
    "\n",
    "print(df[[\"Cpu\", \"Cpu_Numeric\"]].drop_duplicates().sort_values(\"Cpu_Numeric\"))\n",
    "\n",
    "#\"Cpu\" sütun verilerini ortalama ücretlerine göre listeliyor ve değer atıyoruz yeni bir sütun olarak veri setine ekliyoruz.\n"
   ]
  },
  {
   "cell_type": "code",
   "execution_count": 24,
   "metadata": {},
   "outputs": [
    {
     "data": {
      "text/html": [
       "<div>\n",
       "<style scoped>\n",
       "    .dataframe tbody tr th:only-of-type {\n",
       "        vertical-align: middle;\n",
       "    }\n",
       "\n",
       "    .dataframe tbody tr th {\n",
       "        vertical-align: top;\n",
       "    }\n",
       "\n",
       "    .dataframe thead th {\n",
       "        text-align: right;\n",
       "    }\n",
       "</style>\n",
       "<table border=\"1\" class=\"dataframe\">\n",
       "  <thead>\n",
       "    <tr style=\"text-align: right;\">\n",
       "      <th></th>\n",
       "      <th>Unnamed: 0</th>\n",
       "      <th>Company</th>\n",
       "      <th>TypeName</th>\n",
       "      <th>Inches</th>\n",
       "      <th>ScreenResolution</th>\n",
       "      <th>Cpu</th>\n",
       "      <th>Ram</th>\n",
       "      <th>Memory</th>\n",
       "      <th>Gpu</th>\n",
       "      <th>OpSys</th>\n",
       "      <th>Weight</th>\n",
       "      <th>Price</th>\n",
       "      <th>Company_Numeric</th>\n",
       "      <th>Total_Capacity</th>\n",
       "      <th>Capacity_Rank</th>\n",
       "      <th>Cpu_Numeric</th>\n",
       "    </tr>\n",
       "  </thead>\n",
       "  <tbody>\n",
       "    <tr>\n",
       "      <th>0</th>\n",
       "      <td>950</td>\n",
       "      <td>HP</td>\n",
       "      <td>Workstation</td>\n",
       "      <td>15.6</td>\n",
       "      <td>IPS Panel Full HD 1920x1080</td>\n",
       "      <td>Intel Core i7 6820HQ 2.7GHz</td>\n",
       "      <td>8.0</td>\n",
       "      <td>8GB SSD</td>\n",
       "      <td>Nvidia Quadro M1000M</td>\n",
       "      <td>Windows 10</td>\n",
       "      <td>2.00</td>\n",
       "      <td>119826.720</td>\n",
       "      <td>6</td>\n",
       "      <td>8</td>\n",
       "      <td>1</td>\n",
       "      <td>109</td>\n",
       "    </tr>\n",
       "    <tr>\n",
       "      <th>1</th>\n",
       "      <td>504</td>\n",
       "      <td>Lenovo</td>\n",
       "      <td>Netbook</td>\n",
       "      <td>11.6</td>\n",
       "      <td>1366x768</td>\n",
       "      <td>Intel Celeron Dual Core N3060 1.6GHz</td>\n",
       "      <td>4.0</td>\n",
       "      <td>16GB SSD</td>\n",
       "      <td>Intel HD Graphics 400</td>\n",
       "      <td>Chrome OS</td>\n",
       "      <td>1.25</td>\n",
       "      <td>14119.200</td>\n",
       "      <td>7</td>\n",
       "      <td>16</td>\n",
       "      <td>2</td>\n",
       "      <td>10</td>\n",
       "    </tr>\n",
       "    <tr>\n",
       "      <th>2</th>\n",
       "      <td>430</td>\n",
       "      <td>Samsung</td>\n",
       "      <td>Netbook</td>\n",
       "      <td>11.6</td>\n",
       "      <td>1366x768</td>\n",
       "      <td>Intel Celeron Dual Core N3060 1.6GHz</td>\n",
       "      <td>4.0</td>\n",
       "      <td>16GB Flash Storage</td>\n",
       "      <td>Intel HD Graphics 400</td>\n",
       "      <td>Chrome OS</td>\n",
       "      <td>1.15</td>\n",
       "      <td>14332.320</td>\n",
       "      <td>12</td>\n",
       "      <td>16</td>\n",
       "      <td>2</td>\n",
       "      <td>10</td>\n",
       "    </tr>\n",
       "    <tr>\n",
       "      <th>3</th>\n",
       "      <td>1049</td>\n",
       "      <td>Asus</td>\n",
       "      <td>Netbook</td>\n",
       "      <td>11.6</td>\n",
       "      <td>1366x768</td>\n",
       "      <td>Intel Celeron Dual Core N3060 1.6GHz</td>\n",
       "      <td>4.0</td>\n",
       "      <td>16GB Flash Storage</td>\n",
       "      <td>Intel HD Graphics 400</td>\n",
       "      <td>Chrome OS</td>\n",
       "      <td>1.20</td>\n",
       "      <td>15339.312</td>\n",
       "      <td>8</td>\n",
       "      <td>16</td>\n",
       "      <td>2</td>\n",
       "      <td>10</td>\n",
       "    </tr>\n",
       "    <tr>\n",
       "      <th>4</th>\n",
       "      <td>817</td>\n",
       "      <td>HP</td>\n",
       "      <td>Netbook</td>\n",
       "      <td>11.6</td>\n",
       "      <td>1366x768</td>\n",
       "      <td>Intel Celeron Dual Core N3060 1.6GHz</td>\n",
       "      <td>4.0</td>\n",
       "      <td>16GB Flash Storage</td>\n",
       "      <td>Intel HD Graphics 400</td>\n",
       "      <td>Chrome OS</td>\n",
       "      <td>1.23</td>\n",
       "      <td>20512.800</td>\n",
       "      <td>6</td>\n",
       "      <td>16</td>\n",
       "      <td>2</td>\n",
       "      <td>10</td>\n",
       "    </tr>\n",
       "  </tbody>\n",
       "</table>\n",
       "</div>"
      ],
      "text/plain": [
       "   Unnamed: 0  Company     TypeName  Inches             ScreenResolution  \\\n",
       "0         950       HP  Workstation    15.6  IPS Panel Full HD 1920x1080   \n",
       "1         504   Lenovo      Netbook    11.6                     1366x768   \n",
       "2         430  Samsung      Netbook    11.6                     1366x768   \n",
       "3        1049     Asus      Netbook    11.6                     1366x768   \n",
       "4         817       HP      Netbook    11.6                     1366x768   \n",
       "\n",
       "                                    Cpu  Ram              Memory  \\\n",
       "0           Intel Core i7 6820HQ 2.7GHz  8.0             8GB SSD   \n",
       "1  Intel Celeron Dual Core N3060 1.6GHz  4.0            16GB SSD   \n",
       "2  Intel Celeron Dual Core N3060 1.6GHz  4.0  16GB Flash Storage   \n",
       "3  Intel Celeron Dual Core N3060 1.6GHz  4.0  16GB Flash Storage   \n",
       "4  Intel Celeron Dual Core N3060 1.6GHz  4.0  16GB Flash Storage   \n",
       "\n",
       "                     Gpu       OpSys  Weight       Price  Company_Numeric  \\\n",
       "0   Nvidia Quadro M1000M  Windows 10    2.00  119826.720                6   \n",
       "1  Intel HD Graphics 400   Chrome OS    1.25   14119.200                7   \n",
       "2  Intel HD Graphics 400   Chrome OS    1.15   14332.320               12   \n",
       "3  Intel HD Graphics 400   Chrome OS    1.20   15339.312                8   \n",
       "4  Intel HD Graphics 400   Chrome OS    1.23   20512.800                6   \n",
       "\n",
       "   Total_Capacity  Capacity_Rank  Cpu_Numeric  \n",
       "0               8              1          109  \n",
       "1              16              2           10  \n",
       "2              16              2           10  \n",
       "3              16              2           10  \n",
       "4              16              2           10  "
      ]
     },
     "execution_count": 24,
     "metadata": {},
     "output_type": "execute_result"
    }
   ],
   "source": [
    "df.head()"
   ]
  },
  {
   "cell_type": "code",
   "execution_count": 25,
   "metadata": {},
   "outputs": [
    {
     "name": "stdout",
     "output_type": "stream",
     "text": [
      "                           Gpu  Gpu_Numeric\n",
      "52               AMD Radeon R2            1\n",
      "1        Intel HD Graphics 400            2\n",
      "127     AMD Radeon R2 Graphics            3\n",
      "11       Intel HD Graphics 500            4\n",
      "610              AMD Radeon R3            5\n",
      "...                        ...          ...\n",
      "254       Nvidia Quadro M2000M          106\n",
      "1283  Nvidia GeForce GTX 1070M          107\n",
      "355       Nvidia Quadro M3000M          108\n",
      "864    Nvidia GeForce GTX 980           109\n",
      "533    Nvidia GeForce GTX 1080          110\n",
      "\n",
      "[110 rows x 2 columns]\n"
     ]
    }
   ],
   "source": [
    "\n",
    "average_price_by_os = df.groupby(\"Gpu\")[\"Price\"].mean().sort_values()\n",
    "\n",
    "\n",
    "gp_ranking = {os: rank for rank, os in enumerate(average_price_by_os.index, 1)}\n",
    "df[\"Gpu_Numeric\"] = df[\"Gpu\"].map(gp_ranking)\n",
    "\n",
    "\n",
    "print(df[[\"Gpu\", \"Gpu_Numeric\"]].drop_duplicates().sort_values(\"Gpu_Numeric\"))\n",
    "\n",
    "#\"Gpu\" sütun verilerini ortalama ücretlerine göre listeliyor ve değer atıyoruz yeni bir sütun olarak veri setine ekliyoruz."
   ]
  },
  {
   "cell_type": "code",
   "execution_count": 26,
   "metadata": {},
   "outputs": [],
   "source": [
    "df[\"IPS_Panel\"] = df[\"ScreenResolution\"].apply(lambda x: 1 if \"IPS\" in x else 0)\n",
    "\n",
    "#Laptop fiyatlarında IPS panelin önemini biliyoruz IPS panel olanların bir adım önde olması gerektiğini düşünüyorum ve var mı yok mu kontrol edip yeni bir sütun ekliyoruz.\n"
   ]
  },
  {
   "cell_type": "code",
   "execution_count": 27,
   "metadata": {},
   "outputs": [
    {
     "data": {
      "text/html": [
       "<div>\n",
       "<style scoped>\n",
       "    .dataframe tbody tr th:only-of-type {\n",
       "        vertical-align: middle;\n",
       "    }\n",
       "\n",
       "    .dataframe tbody tr th {\n",
       "        vertical-align: top;\n",
       "    }\n",
       "\n",
       "    .dataframe thead th {\n",
       "        text-align: right;\n",
       "    }\n",
       "</style>\n",
       "<table border=\"1\" class=\"dataframe\">\n",
       "  <thead>\n",
       "    <tr style=\"text-align: right;\">\n",
       "      <th></th>\n",
       "      <th>Unnamed: 0</th>\n",
       "      <th>Company</th>\n",
       "      <th>TypeName</th>\n",
       "      <th>Inches</th>\n",
       "      <th>ScreenResolution</th>\n",
       "      <th>Cpu</th>\n",
       "      <th>Ram</th>\n",
       "      <th>Memory</th>\n",
       "      <th>Gpu</th>\n",
       "      <th>OpSys</th>\n",
       "      <th>Weight</th>\n",
       "      <th>Price</th>\n",
       "      <th>Company_Numeric</th>\n",
       "      <th>Total_Capacity</th>\n",
       "      <th>Capacity_Rank</th>\n",
       "      <th>Cpu_Numeric</th>\n",
       "      <th>Gpu_Numeric</th>\n",
       "      <th>IPS_Panel</th>\n",
       "    </tr>\n",
       "  </thead>\n",
       "  <tbody>\n",
       "    <tr>\n",
       "      <th>0</th>\n",
       "      <td>950</td>\n",
       "      <td>HP</td>\n",
       "      <td>Workstation</td>\n",
       "      <td>15.6</td>\n",
       "      <td>IPS Panel Full HD 1920x1080</td>\n",
       "      <td>Intel Core i7 6820HQ 2.7GHz</td>\n",
       "      <td>8.0</td>\n",
       "      <td>8GB SSD</td>\n",
       "      <td>Nvidia Quadro M1000M</td>\n",
       "      <td>Windows 10</td>\n",
       "      <td>2.00</td>\n",
       "      <td>119826.720</td>\n",
       "      <td>6</td>\n",
       "      <td>8</td>\n",
       "      <td>1</td>\n",
       "      <td>109</td>\n",
       "      <td>88</td>\n",
       "      <td>1</td>\n",
       "    </tr>\n",
       "    <tr>\n",
       "      <th>1</th>\n",
       "      <td>504</td>\n",
       "      <td>Lenovo</td>\n",
       "      <td>Netbook</td>\n",
       "      <td>11.6</td>\n",
       "      <td>1366x768</td>\n",
       "      <td>Intel Celeron Dual Core N3060 1.6GHz</td>\n",
       "      <td>4.0</td>\n",
       "      <td>16GB SSD</td>\n",
       "      <td>Intel HD Graphics 400</td>\n",
       "      <td>Chrome OS</td>\n",
       "      <td>1.25</td>\n",
       "      <td>14119.200</td>\n",
       "      <td>7</td>\n",
       "      <td>16</td>\n",
       "      <td>2</td>\n",
       "      <td>10</td>\n",
       "      <td>2</td>\n",
       "      <td>0</td>\n",
       "    </tr>\n",
       "    <tr>\n",
       "      <th>2</th>\n",
       "      <td>430</td>\n",
       "      <td>Samsung</td>\n",
       "      <td>Netbook</td>\n",
       "      <td>11.6</td>\n",
       "      <td>1366x768</td>\n",
       "      <td>Intel Celeron Dual Core N3060 1.6GHz</td>\n",
       "      <td>4.0</td>\n",
       "      <td>16GB Flash Storage</td>\n",
       "      <td>Intel HD Graphics 400</td>\n",
       "      <td>Chrome OS</td>\n",
       "      <td>1.15</td>\n",
       "      <td>14332.320</td>\n",
       "      <td>12</td>\n",
       "      <td>16</td>\n",
       "      <td>2</td>\n",
       "      <td>10</td>\n",
       "      <td>2</td>\n",
       "      <td>0</td>\n",
       "    </tr>\n",
       "    <tr>\n",
       "      <th>3</th>\n",
       "      <td>1049</td>\n",
       "      <td>Asus</td>\n",
       "      <td>Netbook</td>\n",
       "      <td>11.6</td>\n",
       "      <td>1366x768</td>\n",
       "      <td>Intel Celeron Dual Core N3060 1.6GHz</td>\n",
       "      <td>4.0</td>\n",
       "      <td>16GB Flash Storage</td>\n",
       "      <td>Intel HD Graphics 400</td>\n",
       "      <td>Chrome OS</td>\n",
       "      <td>1.20</td>\n",
       "      <td>15339.312</td>\n",
       "      <td>8</td>\n",
       "      <td>16</td>\n",
       "      <td>2</td>\n",
       "      <td>10</td>\n",
       "      <td>2</td>\n",
       "      <td>0</td>\n",
       "    </tr>\n",
       "    <tr>\n",
       "      <th>4</th>\n",
       "      <td>817</td>\n",
       "      <td>HP</td>\n",
       "      <td>Netbook</td>\n",
       "      <td>11.6</td>\n",
       "      <td>1366x768</td>\n",
       "      <td>Intel Celeron Dual Core N3060 1.6GHz</td>\n",
       "      <td>4.0</td>\n",
       "      <td>16GB Flash Storage</td>\n",
       "      <td>Intel HD Graphics 400</td>\n",
       "      <td>Chrome OS</td>\n",
       "      <td>1.23</td>\n",
       "      <td>20512.800</td>\n",
       "      <td>6</td>\n",
       "      <td>16</td>\n",
       "      <td>2</td>\n",
       "      <td>10</td>\n",
       "      <td>2</td>\n",
       "      <td>0</td>\n",
       "    </tr>\n",
       "  </tbody>\n",
       "</table>\n",
       "</div>"
      ],
      "text/plain": [
       "   Unnamed: 0  Company     TypeName  Inches             ScreenResolution  \\\n",
       "0         950       HP  Workstation    15.6  IPS Panel Full HD 1920x1080   \n",
       "1         504   Lenovo      Netbook    11.6                     1366x768   \n",
       "2         430  Samsung      Netbook    11.6                     1366x768   \n",
       "3        1049     Asus      Netbook    11.6                     1366x768   \n",
       "4         817       HP      Netbook    11.6                     1366x768   \n",
       "\n",
       "                                    Cpu  Ram              Memory  \\\n",
       "0           Intel Core i7 6820HQ 2.7GHz  8.0             8GB SSD   \n",
       "1  Intel Celeron Dual Core N3060 1.6GHz  4.0            16GB SSD   \n",
       "2  Intel Celeron Dual Core N3060 1.6GHz  4.0  16GB Flash Storage   \n",
       "3  Intel Celeron Dual Core N3060 1.6GHz  4.0  16GB Flash Storage   \n",
       "4  Intel Celeron Dual Core N3060 1.6GHz  4.0  16GB Flash Storage   \n",
       "\n",
       "                     Gpu       OpSys  Weight       Price  Company_Numeric  \\\n",
       "0   Nvidia Quadro M1000M  Windows 10    2.00  119826.720                6   \n",
       "1  Intel HD Graphics 400   Chrome OS    1.25   14119.200                7   \n",
       "2  Intel HD Graphics 400   Chrome OS    1.15   14332.320               12   \n",
       "3  Intel HD Graphics 400   Chrome OS    1.20   15339.312                8   \n",
       "4  Intel HD Graphics 400   Chrome OS    1.23   20512.800                6   \n",
       "\n",
       "   Total_Capacity  Capacity_Rank  Cpu_Numeric  Gpu_Numeric  IPS_Panel  \n",
       "0               8              1          109           88          1  \n",
       "1              16              2           10            2          0  \n",
       "2              16              2           10            2          0  \n",
       "3              16              2           10            2          0  \n",
       "4              16              2           10            2          0  "
      ]
     },
     "execution_count": 27,
     "metadata": {},
     "output_type": "execute_result"
    }
   ],
   "source": [
    "df.head()"
   ]
  },
  {
   "cell_type": "markdown",
   "metadata": {},
   "source": [
    "### Veri Görselleştirme ve Özellik Mühendisliği"
   ]
  },
  {
   "cell_type": "code",
   "execution_count": 28,
   "metadata": {},
   "outputs": [
    {
     "data": {
      "text/plain": [
       "<Axes: xlabel='OpSys'>"
      ]
     },
     "execution_count": 28,
     "metadata": {},
     "output_type": "execute_result"
    },
    {
     "data": {
      "image/png": "[encoded data removed]",
      "text/plain": [
       "<Figure size 640x480 with 1 Axes>"
      ]
     },
     "metadata": {},
     "output_type": "display_data"
    }
   ],
   "source": [
    "df[\"OpSys\"].value_counts().plot(kind=\"bar\", color=\"red\")\n",
    "#Veri setinde hangi işletim sisteminin ne kadar olduğu kaç adet pc de bulunduğu gösteriliyor."
   ]
  },
  {
   "cell_type": "code",
   "execution_count": 29,
   "metadata": {},
   "outputs": [
    {
     "data": {
      "text/plain": [
       "<Axes: xlabel='Company'>"
      ]
     },
     "execution_count": 29,
     "metadata": {},
     "output_type": "execute_result"
    },
    {
     "data": {
      "image/png": "[encoded data removed]",
      "text/plain": [
       "<Figure size 640x480 with 1 Axes>"
      ]
     },
     "metadata": {},
     "output_type": "display_data"
    }
   ],
   "source": [
    "df[\"Company\"].value_counts().plot(kind=\"bar\", color=\"red\")\n",
    "#Hangi markalardan ne kadar olduğuna bakıyoruz."
   ]
  },
  {
   "cell_type": "code",
   "execution_count": 30,
   "metadata": {},
   "outputs": [
    {
     "data": {
      "text/plain": [
       "<Axes: xlabel='TypeName'>"
      ]
     },
     "execution_count": 30,
     "metadata": {},
     "output_type": "execute_result"
    },
    {
     "data": {
      "image/png": "[encoded data removed]",
      "text/plain": [
       "<Figure size 640x480 with 1 Axes>"
      ]
     },
     "metadata": {},
     "output_type": "display_data"
    }
   ],
   "source": [
    "df[\"TypeName\"].value_counts().plot(kind=\"bar\", color=\"red\")\n",
    "#Laptop modellerinin neler olduğu kaç adet olduğuna bakıyor ve nasıl bir işlem yapılabileceğini anlıyoruz."
   ]
  },
  {
   "cell_type": "code",
   "execution_count": 31,
   "metadata": {},
   "outputs": [
    {
     "data": {
      "text/plain": [
       "<Axes: xlabel='OpSys', ylabel='Company'>"
      ]
     },
     "execution_count": 31,
     "metadata": {},
     "output_type": "execute_result"
    },
    {
     "data": {
      "image/png": "[encoded data removed]",
      "text/plain": [
       "<Figure size 1200x800 with 1 Axes>"
      ]
     },
     "metadata": {},
     "output_type": "display_data"
    }
   ],
   "source": [
    "plt.figure(figsize=(12, 8))\n",
    "sns.scatterplot(data=df , y=\"Company\", x=\"OpSys\")\n",
    "\n",
    "#Hangi  markaların hangi işletim sistemlerini kullandığına bakıyor ve ortalama bir statü farkını görüyoruz."
   ]
  },
  {
   "cell_type": "code",
   "execution_count": 32,
   "metadata": {},
   "outputs": [
    {
     "data": {
      "text/html": [
       "<div>\n",
       "<style scoped>\n",
       "    .dataframe tbody tr th:only-of-type {\n",
       "        vertical-align: middle;\n",
       "    }\n",
       "\n",
       "    .dataframe tbody tr th {\n",
       "        vertical-align: top;\n",
       "    }\n",
       "\n",
       "    .dataframe thead th {\n",
       "        text-align: right;\n",
       "    }\n",
       "</style>\n",
       "<table border=\"1\" class=\"dataframe\">\n",
       "  <thead>\n",
       "    <tr style=\"text-align: right;\">\n",
       "      <th></th>\n",
       "      <th>Unnamed: 0</th>\n",
       "      <th>Company</th>\n",
       "      <th>TypeName</th>\n",
       "      <th>Inches</th>\n",
       "      <th>ScreenResolution</th>\n",
       "      <th>Cpu</th>\n",
       "      <th>Ram</th>\n",
       "      <th>Memory</th>\n",
       "      <th>Gpu</th>\n",
       "      <th>OpSys</th>\n",
       "      <th>Weight</th>\n",
       "      <th>Price</th>\n",
       "      <th>Company_Numeric</th>\n",
       "      <th>Total_Capacity</th>\n",
       "      <th>Capacity_Rank</th>\n",
       "      <th>Cpu_Numeric</th>\n",
       "      <th>Gpu_Numeric</th>\n",
       "      <th>IPS_Panel</th>\n",
       "      <th>opys_numeric</th>\n",
       "    </tr>\n",
       "  </thead>\n",
       "  <tbody>\n",
       "    <tr>\n",
       "      <th>0</th>\n",
       "      <td>950</td>\n",
       "      <td>HP</td>\n",
       "      <td>Workstation</td>\n",
       "      <td>15.6</td>\n",
       "      <td>IPS Panel Full HD 1920x1080</td>\n",
       "      <td>Intel Core i7 6820HQ 2.7GHz</td>\n",
       "      <td>8.0</td>\n",
       "      <td>8GB SSD</td>\n",
       "      <td>Nvidia Quadro M1000M</td>\n",
       "      <td>Windows 10</td>\n",
       "      <td>2.00</td>\n",
       "      <td>119826.720</td>\n",
       "      <td>6</td>\n",
       "      <td>8</td>\n",
       "      <td>1</td>\n",
       "      <td>109</td>\n",
       "      <td>88</td>\n",
       "      <td>1</td>\n",
       "      <td>8</td>\n",
       "    </tr>\n",
       "    <tr>\n",
       "      <th>1</th>\n",
       "      <td>504</td>\n",
       "      <td>Lenovo</td>\n",
       "      <td>Netbook</td>\n",
       "      <td>11.6</td>\n",
       "      <td>1366x768</td>\n",
       "      <td>Intel Celeron Dual Core N3060 1.6GHz</td>\n",
       "      <td>4.0</td>\n",
       "      <td>16GB SSD</td>\n",
       "      <td>Intel HD Graphics 400</td>\n",
       "      <td>Chrome OS</td>\n",
       "      <td>1.25</td>\n",
       "      <td>14119.200</td>\n",
       "      <td>7</td>\n",
       "      <td>16</td>\n",
       "      <td>2</td>\n",
       "      <td>10</td>\n",
       "      <td>2</td>\n",
       "      <td>0</td>\n",
       "      <td>2</td>\n",
       "    </tr>\n",
       "    <tr>\n",
       "      <th>2</th>\n",
       "      <td>430</td>\n",
       "      <td>Samsung</td>\n",
       "      <td>Netbook</td>\n",
       "      <td>11.6</td>\n",
       "      <td>1366x768</td>\n",
       "      <td>Intel Celeron Dual Core N3060 1.6GHz</td>\n",
       "      <td>4.0</td>\n",
       "      <td>16GB Flash Storage</td>\n",
       "      <td>Intel HD Graphics 400</td>\n",
       "      <td>Chrome OS</td>\n",
       "      <td>1.15</td>\n",
       "      <td>14332.320</td>\n",
       "      <td>12</td>\n",
       "      <td>16</td>\n",
       "      <td>2</td>\n",
       "      <td>10</td>\n",
       "      <td>2</td>\n",
       "      <td>0</td>\n",
       "      <td>2</td>\n",
       "    </tr>\n",
       "    <tr>\n",
       "      <th>3</th>\n",
       "      <td>1049</td>\n",
       "      <td>Asus</td>\n",
       "      <td>Netbook</td>\n",
       "      <td>11.6</td>\n",
       "      <td>1366x768</td>\n",
       "      <td>Intel Celeron Dual Core N3060 1.6GHz</td>\n",
       "      <td>4.0</td>\n",
       "      <td>16GB Flash Storage</td>\n",
       "      <td>Intel HD Graphics 400</td>\n",
       "      <td>Chrome OS</td>\n",
       "      <td>1.20</td>\n",
       "      <td>15339.312</td>\n",
       "      <td>8</td>\n",
       "      <td>16</td>\n",
       "      <td>2</td>\n",
       "      <td>10</td>\n",
       "      <td>2</td>\n",
       "      <td>0</td>\n",
       "      <td>2</td>\n",
       "    </tr>\n",
       "    <tr>\n",
       "      <th>4</th>\n",
       "      <td>817</td>\n",
       "      <td>HP</td>\n",
       "      <td>Netbook</td>\n",
       "      <td>11.6</td>\n",
       "      <td>1366x768</td>\n",
       "      <td>Intel Celeron Dual Core N3060 1.6GHz</td>\n",
       "      <td>4.0</td>\n",
       "      <td>16GB Flash Storage</td>\n",
       "      <td>Intel HD Graphics 400</td>\n",
       "      <td>Chrome OS</td>\n",
       "      <td>1.23</td>\n",
       "      <td>20512.800</td>\n",
       "      <td>6</td>\n",
       "      <td>16</td>\n",
       "      <td>2</td>\n",
       "      <td>10</td>\n",
       "      <td>2</td>\n",
       "      <td>0</td>\n",
       "      <td>2</td>\n",
       "    </tr>\n",
       "  </tbody>\n",
       "</table>\n",
       "</div>"
      ],
      "text/plain": [
       "   Unnamed: 0  Company     TypeName  Inches             ScreenResolution  \\\n",
       "0         950       HP  Workstation    15.6  IPS Panel Full HD 1920x1080   \n",
       "1         504   Lenovo      Netbook    11.6                     1366x768   \n",
       "2         430  Samsung      Netbook    11.6                     1366x768   \n",
       "3        1049     Asus      Netbook    11.6                     1366x768   \n",
       "4         817       HP      Netbook    11.6                     1366x768   \n",
       "\n",
       "                                    Cpu  Ram              Memory  \\\n",
       "0           Intel Core i7 6820HQ 2.7GHz  8.0             8GB SSD   \n",
       "1  Intel Celeron Dual Core N3060 1.6GHz  4.0            16GB SSD   \n",
       "2  Intel Celeron Dual Core N3060 1.6GHz  4.0  16GB Flash Storage   \n",
       "3  Intel Celeron Dual Core N3060 1.6GHz  4.0  16GB Flash Storage   \n",
       "4  Intel Celeron Dual Core N3060 1.6GHz  4.0  16GB Flash Storage   \n",
       "\n",
       "                     Gpu       OpSys  Weight       Price  Company_Numeric  \\\n",
       "0   Nvidia Quadro M1000M  Windows 10    2.00  119826.720                6   \n",
       "1  Intel HD Graphics 400   Chrome OS    1.25   14119.200                7   \n",
       "2  Intel HD Graphics 400   Chrome OS    1.15   14332.320               12   \n",
       "3  Intel HD Graphics 400   Chrome OS    1.20   15339.312                8   \n",
       "4  Intel HD Graphics 400   Chrome OS    1.23   20512.800                6   \n",
       "\n",
       "   Total_Capacity  Capacity_Rank  Cpu_Numeric  Gpu_Numeric  IPS_Panel  \\\n",
       "0               8              1          109           88          1   \n",
       "1              16              2           10            2          0   \n",
       "2              16              2           10            2          0   \n",
       "3              16              2           10            2          0   \n",
       "4              16              2           10            2          0   \n",
       "\n",
       "   opys_numeric  \n",
       "0             8  \n",
       "1             2  \n",
       "2             2  \n",
       "3             2  \n",
       "4             2  "
      ]
     },
     "execution_count": 32,
     "metadata": {},
     "output_type": "execute_result"
    }
   ],
   "source": [
    "opsys_mapping = {\n",
    "    'Mac OS X': 18,\n",
    "    'macOS': 20,\n",
    "    'Windows 10': 8,\n",
    "    'Windows 10 S':9,\n",
    "    'Linux':2,\n",
    "    'Windows 7':7,\n",
    "    'Android':1,\n",
    "    'Chrome OS':2,\n",
    "    'No OS':3  \n",
    "}\n",
    "df['opys_numeric'] = df['OpSys'].map(opsys_mapping)\n",
    "df.head()\n",
    "\n",
    "#İşletim sistemlerine sözlük kullanarak manuel değerler atıyoruz ve bunları yeni bir sütun olarak listeliyoruz."
   ]
  },
  {
   "cell_type": "code",
   "execution_count": 33,
   "metadata": {},
   "outputs": [
    {
     "data": {
      "image/png": "[encoded data removed]",
      "text/plain": [
       "<Figure size 640x480 with 1 Axes>"
      ]
     },
     "metadata": {},
     "output_type": "display_data"
    }
   ],
   "source": [
    "df['Company_Numeric'].hist(bins=30, edgecolor='black')\n",
    "plt.xlabel('Değerler')\n",
    "plt.ylabel('Frekans')\n",
    "plt.show()\n",
    "#Markalara verdiğimiz değerler vardı bu değerlerin dağılımına bakıyoruz."
   ]
  },
  {
   "cell_type": "code",
   "execution_count": 34,
   "metadata": {},
   "outputs": [
    {
     "data": {
      "image/png": "[encoded data removed]",
      "text/plain": [
       "<Figure size 640x480 with 1 Axes>"
      ]
     },
     "metadata": {},
     "output_type": "display_data"
    }
   ],
   "source": [
    "sns.boxplot(x=df['Company_Numeric'])\n",
    "plt.show()\n",
    "#Değerler arasında uç değerler yani aykırıların olup olmadığına bakıyoruz."
   ]
  },
  {
   "cell_type": "code",
   "execution_count": 35,
   "metadata": {},
   "outputs": [
    {
     "data": {
      "text/plain": [
       "<Axes: xlabel='TypeName'>"
      ]
     },
     "execution_count": 35,
     "metadata": {},
     "output_type": "execute_result"
    },
    {
     "data": {
      "image/png": "[encoded data removed]",
      "text/plain": [
       "<Figure size 640x480 with 1 Axes>"
      ]
     },
     "metadata": {},
     "output_type": "display_data"
    }
   ],
   "source": [
    "df[\"TypeName\"].value_counts().plot(kind=\"bar\", color=\"red\")"
   ]
  },
  {
   "cell_type": "code",
   "execution_count": 36,
   "metadata": {},
   "outputs": [
    {
     "data": {
      "text/html": [
       "<div>\n",
       "<style scoped>\n",
       "    .dataframe tbody tr th:only-of-type {\n",
       "        vertical-align: middle;\n",
       "    }\n",
       "\n",
       "    .dataframe tbody tr th {\n",
       "        vertical-align: top;\n",
       "    }\n",
       "\n",
       "    .dataframe thead th {\n",
       "        text-align: right;\n",
       "    }\n",
       "</style>\n",
       "<table border=\"1\" class=\"dataframe\">\n",
       "  <thead>\n",
       "    <tr style=\"text-align: right;\">\n",
       "      <th></th>\n",
       "      <th>Unnamed: 0</th>\n",
       "      <th>Company</th>\n",
       "      <th>TypeName</th>\n",
       "      <th>Inches</th>\n",
       "      <th>ScreenResolution</th>\n",
       "      <th>Cpu</th>\n",
       "      <th>Ram</th>\n",
       "      <th>Memory</th>\n",
       "      <th>Gpu</th>\n",
       "      <th>OpSys</th>\n",
       "      <th>Weight</th>\n",
       "      <th>Price</th>\n",
       "      <th>Company_Numeric</th>\n",
       "      <th>Total_Capacity</th>\n",
       "      <th>Capacity_Rank</th>\n",
       "      <th>Cpu_Numeric</th>\n",
       "      <th>Gpu_Numeric</th>\n",
       "      <th>IPS_Panel</th>\n",
       "      <th>opys_numeric</th>\n",
       "      <th>type_numeric</th>\n",
       "    </tr>\n",
       "  </thead>\n",
       "  <tbody>\n",
       "    <tr>\n",
       "      <th>0</th>\n",
       "      <td>950</td>\n",
       "      <td>HP</td>\n",
       "      <td>Workstation</td>\n",
       "      <td>15.6</td>\n",
       "      <td>IPS Panel Full HD 1920x1080</td>\n",
       "      <td>Intel Core i7 6820HQ 2.7GHz</td>\n",
       "      <td>8.0</td>\n",
       "      <td>8GB SSD</td>\n",
       "      <td>Nvidia Quadro M1000M</td>\n",
       "      <td>Windows 10</td>\n",
       "      <td>2.00</td>\n",
       "      <td>119826.720</td>\n",
       "      <td>6</td>\n",
       "      <td>8</td>\n",
       "      <td>1</td>\n",
       "      <td>109</td>\n",
       "      <td>88</td>\n",
       "      <td>1</td>\n",
       "      <td>8</td>\n",
       "      <td>2</td>\n",
       "    </tr>\n",
       "    <tr>\n",
       "      <th>1</th>\n",
       "      <td>504</td>\n",
       "      <td>Lenovo</td>\n",
       "      <td>Netbook</td>\n",
       "      <td>11.6</td>\n",
       "      <td>1366x768</td>\n",
       "      <td>Intel Celeron Dual Core N3060 1.6GHz</td>\n",
       "      <td>4.0</td>\n",
       "      <td>16GB SSD</td>\n",
       "      <td>Intel HD Graphics 400</td>\n",
       "      <td>Chrome OS</td>\n",
       "      <td>1.25</td>\n",
       "      <td>14119.200</td>\n",
       "      <td>7</td>\n",
       "      <td>16</td>\n",
       "      <td>2</td>\n",
       "      <td>10</td>\n",
       "      <td>2</td>\n",
       "      <td>0</td>\n",
       "      <td>2</td>\n",
       "      <td>1</td>\n",
       "    </tr>\n",
       "    <tr>\n",
       "      <th>2</th>\n",
       "      <td>430</td>\n",
       "      <td>Samsung</td>\n",
       "      <td>Netbook</td>\n",
       "      <td>11.6</td>\n",
       "      <td>1366x768</td>\n",
       "      <td>Intel Celeron Dual Core N3060 1.6GHz</td>\n",
       "      <td>4.0</td>\n",
       "      <td>16GB Flash Storage</td>\n",
       "      <td>Intel HD Graphics 400</td>\n",
       "      <td>Chrome OS</td>\n",
       "      <td>1.15</td>\n",
       "      <td>14332.320</td>\n",
       "      <td>12</td>\n",
       "      <td>16</td>\n",
       "      <td>2</td>\n",
       "      <td>10</td>\n",
       "      <td>2</td>\n",
       "      <td>0</td>\n",
       "      <td>2</td>\n",
       "      <td>1</td>\n",
       "    </tr>\n",
       "    <tr>\n",
       "      <th>3</th>\n",
       "      <td>1049</td>\n",
       "      <td>Asus</td>\n",
       "      <td>Netbook</td>\n",
       "      <td>11.6</td>\n",
       "      <td>1366x768</td>\n",
       "      <td>Intel Celeron Dual Core N3060 1.6GHz</td>\n",
       "      <td>4.0</td>\n",
       "      <td>16GB Flash Storage</td>\n",
       "      <td>Intel HD Graphics 400</td>\n",
       "      <td>Chrome OS</td>\n",
       "      <td>1.20</td>\n",
       "      <td>15339.312</td>\n",
       "      <td>8</td>\n",
       "      <td>16</td>\n",
       "      <td>2</td>\n",
       "      <td>10</td>\n",
       "      <td>2</td>\n",
       "      <td>0</td>\n",
       "      <td>2</td>\n",
       "      <td>1</td>\n",
       "    </tr>\n",
       "    <tr>\n",
       "      <th>4</th>\n",
       "      <td>817</td>\n",
       "      <td>HP</td>\n",
       "      <td>Netbook</td>\n",
       "      <td>11.6</td>\n",
       "      <td>1366x768</td>\n",
       "      <td>Intel Celeron Dual Core N3060 1.6GHz</td>\n",
       "      <td>4.0</td>\n",
       "      <td>16GB Flash Storage</td>\n",
       "      <td>Intel HD Graphics 400</td>\n",
       "      <td>Chrome OS</td>\n",
       "      <td>1.23</td>\n",
       "      <td>20512.800</td>\n",
       "      <td>6</td>\n",
       "      <td>16</td>\n",
       "      <td>2</td>\n",
       "      <td>10</td>\n",
       "      <td>2</td>\n",
       "      <td>0</td>\n",
       "      <td>2</td>\n",
       "      <td>1</td>\n",
       "    </tr>\n",
       "  </tbody>\n",
       "</table>\n",
       "</div>"
      ],
      "text/plain": [
       "   Unnamed: 0  Company     TypeName  Inches             ScreenResolution  \\\n",
       "0         950       HP  Workstation    15.6  IPS Panel Full HD 1920x1080   \n",
       "1         504   Lenovo      Netbook    11.6                     1366x768   \n",
       "2         430  Samsung      Netbook    11.6                     1366x768   \n",
       "3        1049     Asus      Netbook    11.6                     1366x768   \n",
       "4         817       HP      Netbook    11.6                     1366x768   \n",
       "\n",
       "                                    Cpu  Ram              Memory  \\\n",
       "0           Intel Core i7 6820HQ 2.7GHz  8.0             8GB SSD   \n",
       "1  Intel Celeron Dual Core N3060 1.6GHz  4.0            16GB SSD   \n",
       "2  Intel Celeron Dual Core N3060 1.6GHz  4.0  16GB Flash Storage   \n",
       "3  Intel Celeron Dual Core N3060 1.6GHz  4.0  16GB Flash Storage   \n",
       "4  Intel Celeron Dual Core N3060 1.6GHz  4.0  16GB Flash Storage   \n",
       "\n",
       "                     Gpu       OpSys  Weight       Price  Company_Numeric  \\\n",
       "0   Nvidia Quadro M1000M  Windows 10    2.00  119826.720                6   \n",
       "1  Intel HD Graphics 400   Chrome OS    1.25   14119.200                7   \n",
       "2  Intel HD Graphics 400   Chrome OS    1.15   14332.320               12   \n",
       "3  Intel HD Graphics 400   Chrome OS    1.20   15339.312                8   \n",
       "4  Intel HD Graphics 400   Chrome OS    1.23   20512.800                6   \n",
       "\n",
       "   Total_Capacity  Capacity_Rank  Cpu_Numeric  Gpu_Numeric  IPS_Panel  \\\n",
       "0               8              1          109           88          1   \n",
       "1              16              2           10            2          0   \n",
       "2              16              2           10            2          0   \n",
       "3              16              2           10            2          0   \n",
       "4              16              2           10            2          0   \n",
       "\n",
       "   opys_numeric  type_numeric  \n",
       "0             8             2  \n",
       "1             2             1  \n",
       "2             2             1  \n",
       "3             2             1  \n",
       "4             2             1  "
      ]
     },
     "execution_count": 36,
     "metadata": {},
     "output_type": "execute_result"
    }
   ],
   "source": [
    "type_mapping = {\n",
    "    'Gaming': 8,\n",
    "    'Ultrabook': 8,\n",
    "    'Notebook': 8,\n",
    "    '2 in 1 Convertible':3,\n",
    "    'Workstation':2,\n",
    "    'Netbook':1   \n",
    "}\n",
    "df['type_numeric'] = df['TypeName'].map(type_mapping)\n",
    "df.head()\n",
    "\n",
    "\n",
    "#Pc modellerine sözlük kullanarak manuel olarak ve kendimce değerler atıyoruz ve bunları yeni bir sütun olarak listeliyoruz."
   ]
  },
  {
   "cell_type": "code",
   "execution_count": 37,
   "metadata": {},
   "outputs": [
    {
     "data": {
      "image/png": "[encoded data removed]",
      "text/plain": [
       "<Figure size 640x480 with 1 Axes>"
      ]
     },
     "metadata": {},
     "output_type": "display_data"
    }
   ],
   "source": [
    "df['TypeName'].hist(bins=30, edgecolor='black')\n",
    "plt.xlabel('Değerler')\n",
    "plt.ylabel('Frekans')\n",
    "plt.show()\n",
    "# pc modellerinin dağılımına bakıyoruz."
   ]
  },
  {
   "cell_type": "code",
   "execution_count": 38,
   "metadata": {},
   "outputs": [
    {
     "data": {
      "text/plain": [
       "Index(['Unnamed: 0', 'Company', 'TypeName', 'Inches', 'ScreenResolution',\n",
       "       'Cpu', 'Ram', 'Memory', 'Gpu', 'OpSys', 'Weight', 'Price',\n",
       "       'Company_Numeric', 'Total_Capacity', 'Capacity_Rank', 'Cpu_Numeric',\n",
       "       'Gpu_Numeric', 'IPS_Panel', 'opys_numeric', 'type_numeric'],\n",
       "      dtype='object')"
      ]
     },
     "execution_count": 38,
     "metadata": {},
     "output_type": "execute_result"
    }
   ],
   "source": [
    "df.columns\n",
    "# Veri setimizde oluşan tüm sutunları listeliyoruz."
   ]
  },
  {
   "cell_type": "code",
   "execution_count": 39,
   "metadata": {},
   "outputs": [],
   "source": [
    "\n",
    "x = df[['Inches','Ram','Weight','Gpu_Numeric',\n",
    "       'Company_Numeric', 'opys_numeric', 'Capacity_Rank', 'Cpu_Numeric',\n",
    "       'IPS_Panel','type_numeric']]\n",
    "y = df[[\"Price\"]]\n",
    "\n",
    "# Özellikleri ve hedef aldığımız değişkenleri belirliyoruz."
   ]
  },
  {
   "cell_type": "markdown",
   "metadata": {},
   "source": [
    "### Modelleme ve Sonuç"
   ]
  },
  {
   "cell_type": "code",
   "execution_count": 40,
   "metadata": {},
   "outputs": [
    {
     "data": {
      "text/plain": [
       "((1303, 10), (1303, 1))"
      ]
     },
     "execution_count": 40,
     "metadata": {},
     "output_type": "execute_result"
    }
   ],
   "source": [
    "x.shape,y.shape\n",
    "# Değişkenlerin satır ve sütunlarına bakıyoruz."
   ]
  },
  {
   "cell_type": "code",
   "execution_count": 41,
   "metadata": {},
   "outputs": [],
   "source": [
    "df = df.dropna()\n",
    "# Gözden kaçmaz lakin varsa işlemeden önce boş verileri temizliyoruz."
   ]
  },
  {
   "cell_type": "code",
   "execution_count": 42,
   "metadata": {},
   "outputs": [],
   "source": [
    "from sklearn.model_selection import train_test_split\n",
    "from sklearn.metrics import r2_score, mean_squared_error\n",
    "from sklearn.linear_model import LinearRegression, Ridge, Lasso, ElasticNet\n",
    "from sklearn.tree import DecisionTreeRegressor\n",
    "from sklearn.neighbors import KNeighborsRegressor\n",
    "from sklearn.ensemble import ExtraTreesRegressor,RandomForestRegressor, GradientBoostingRegressor\n",
    "from sklearn import svm\n",
    "import numpy as np\n",
    "#Gerekli kütüphaneler kuruluyor.\n",
    "\n",
    "def model_test(x, y):\n",
    "    lr=LinearRegression()\n",
    "    r =Ridge()\n",
    "    l =Lasso()\n",
    "    en= ElasticNet()\n",
    "    dt=DecisionTreeRegressor()\n",
    "    et=ExtraTreesRegressor()\n",
    "    rf=RandomForestRegressor()\n",
    "    gb=GradientBoostingRegressor()\n",
    "    kr=KNeighborsRegressor()\n",
    "    sv=svm.SVR()\n",
    "#kullanışlı ve görünür olaması açısından modelleri bir nevi kısayollara atıyoruz\n",
    "\n",
    "    \n",
    "    modeller=[lr, r, l, en, dt, et, sv,rf,gb,kr]\n",
    "    #modellerin bulunduğu listeyi oluşturuyoruz.\n",
    "    model_isimler=[\"Linear Regression\", \"Ridge\", \"Lasso\", \"Elastic Net\", \"Decision Tree\", \"Extra Trees\", \"KNeighbors\",\"Gradient Boosting\" ,\"Random Forest\", \"Support Vector Machine\"]\n",
    "    #Listelemede rahat görebilmek için model isimlerini saklıyoruz\n",
    "    r2ler = []\n",
    "    #Modellerin r2 skorlarının dolduracağı boş liste\n",
    "    rmseler = []\n",
    "    #Modellerin rms lerinin dolduracağı boş liste\n",
    "    x_train, x_test, y_train, y_test = train_test_split(x, y, test_size=.2, random_state=42)\n",
    "    #Veri eğitim ve test olarak ayrılır eğitim %80 test %20\n",
    "    \n",
    "    for model in modeller:\n",
    "        model.fit(x_train, y_train)\n",
    "        #fit fonksiyonu model eğitir\n",
    "        tahmin = model.predict(x_test)\n",
    "        #predict ile tahmin yapılır.\n",
    "        r2ler.append(np.round(r2_score(y_test, tahmin)*100,2))\n",
    "        #r2 skorunu yüzde ile ifade etmek için 100 ile çarpıyoruz\n",
    "        rmseler.append(np.round(mean_squared_error(y_test, tahmin) ** .5,2))\n",
    "\n",
    "    #Modelleri eğitim ve test verileri üzerinde çalıştırıyoruz.\n",
    "\n",
    "    sonuc={\"Model\":model_isimler, \"R2 Skor\":r2ler, \"RMSE\":rmseler}\n",
    "    sonuc=pd.DataFrame(sonuc)\n",
    "    sonuc=sonuc.sort_values(by=\"R2 Skor\", ascending=False)\n",
    "    return sonuc"
   ]
  },
  {
   "cell_type": "code",
   "execution_count": 43,
   "metadata": {},
   "outputs": [
    {
     "name": "stderr",
     "output_type": "stream",
     "text": [
      "c:\\Users\\salih\\anaconda3\\Lib\\site-packages\\sklearn\\base.py:1474: DataConversionWarning: A column-vector y was passed when a 1d array was expected. Please change the shape of y to (n_samples,), for example using ravel().\n",
      "  return fit_method(estimator, *args, **kwargs)\n",
      "c:\\Users\\salih\\anaconda3\\Lib\\site-packages\\sklearn\\utils\\validation.py:1300: DataConversionWarning: A column-vector y was passed when a 1d array was expected. Please change the shape of y to (n_samples, ), for example using ravel().\n",
      "  y = column_or_1d(y, warn=True)\n",
      "c:\\Users\\salih\\anaconda3\\Lib\\site-packages\\sklearn\\base.py:1474: DataConversionWarning: A column-vector y was passed when a 1d array was expected. Please change the shape of y to (n_samples,), for example using ravel().\n",
      "  return fit_method(estimator, *args, **kwargs)\n",
      "c:\\Users\\salih\\anaconda3\\Lib\\site-packages\\sklearn\\ensemble\\_gb.py:668: DataConversionWarning: A column-vector y was passed when a 1d array was expected. Please change the shape of y to (n_samples, ), for example using ravel().\n",
      "  y = column_or_1d(y, warn=True)  # TODO: Is this still required?\n"
     ]
    },
    {
     "data": {
      "text/html": [
       "<div>\n",
       "<style scoped>\n",
       "    .dataframe tbody tr th:only-of-type {\n",
       "        vertical-align: middle;\n",
       "    }\n",
       "\n",
       "    .dataframe tbody tr th {\n",
       "        vertical-align: top;\n",
       "    }\n",
       "\n",
       "    .dataframe thead th {\n",
       "        text-align: right;\n",
       "    }\n",
       "</style>\n",
       "<table border=\"1\" class=\"dataframe\">\n",
       "  <thead>\n",
       "    <tr style=\"text-align: right;\">\n",
       "      <th></th>\n",
       "      <th>Model</th>\n",
       "      <th>R2 Skor</th>\n",
       "      <th>RMSE</th>\n",
       "    </tr>\n",
       "  </thead>\n",
       "  <tbody>\n",
       "    <tr>\n",
       "      <th>5</th>\n",
       "      <td>Extra Trees</td>\n",
       "      <td>88.70</td>\n",
       "      <td>12336.13</td>\n",
       "    </tr>\n",
       "    <tr>\n",
       "      <th>7</th>\n",
       "      <td>Gradient Boosting</td>\n",
       "      <td>88.28</td>\n",
       "      <td>12564.92</td>\n",
       "    </tr>\n",
       "    <tr>\n",
       "      <th>8</th>\n",
       "      <td>Random Forest</td>\n",
       "      <td>86.23</td>\n",
       "      <td>13615.68</td>\n",
       "    </tr>\n",
       "    <tr>\n",
       "      <th>4</th>\n",
       "      <td>Decision Tree</td>\n",
       "      <td>80.36</td>\n",
       "      <td>16264.86</td>\n",
       "    </tr>\n",
       "    <tr>\n",
       "      <th>9</th>\n",
       "      <td>Support Vector Machine</td>\n",
       "      <td>77.23</td>\n",
       "      <td>17511.80</td>\n",
       "    </tr>\n",
       "    <tr>\n",
       "      <th>3</th>\n",
       "      <td>Elastic Net</td>\n",
       "      <td>74.34</td>\n",
       "      <td>18588.18</td>\n",
       "    </tr>\n",
       "    <tr>\n",
       "      <th>1</th>\n",
       "      <td>Ridge</td>\n",
       "      <td>73.59</td>\n",
       "      <td>18858.85</td>\n",
       "    </tr>\n",
       "    <tr>\n",
       "      <th>2</th>\n",
       "      <td>Lasso</td>\n",
       "      <td>73.59</td>\n",
       "      <td>18860.98</td>\n",
       "    </tr>\n",
       "    <tr>\n",
       "      <th>0</th>\n",
       "      <td>Linear Regression</td>\n",
       "      <td>73.58</td>\n",
       "      <td>18861.80</td>\n",
       "    </tr>\n",
       "    <tr>\n",
       "      <th>6</th>\n",
       "      <td>KNeighbors</td>\n",
       "      <td>-3.18</td>\n",
       "      <td>37276.25</td>\n",
       "    </tr>\n",
       "  </tbody>\n",
       "</table>\n",
       "</div>"
      ],
      "text/plain": [
       "                    Model  R2 Skor      RMSE\n",
       "5             Extra Trees    88.70  12336.13\n",
       "7       Gradient Boosting    88.28  12564.92\n",
       "8           Random Forest    86.23  13615.68\n",
       "4           Decision Tree    80.36  16264.86\n",
       "9  Support Vector Machine    77.23  17511.80\n",
       "3             Elastic Net    74.34  18588.18\n",
       "1                   Ridge    73.59  18858.85\n",
       "2                   Lasso    73.59  18860.98\n",
       "0       Linear Regression    73.58  18861.80\n",
       "6              KNeighbors    -3.18  37276.25"
      ]
     },
     "execution_count": 43,
     "metadata": {},
     "output_type": "execute_result"
    }
   ],
   "source": [
    "model_test(x,y)"
   ]
  },
  {
   "cell_type": "code",
   "execution_count": null,
   "metadata": {},
   "outputs": [],
   "source": []
  }
 ],
 "metadata": {
  "kernelspec": {
   "display_name": "base",
   "language": "python",
   "name": "python3"
  },
  "language_info": {
   "codemirror_mode": {
    "name": "ipython",
    "version": 3
   },
   "file_extension": ".py",
   "mimetype": "text/x-python",
   "name": "python",
   "nbconvert_exporter": "python",
   "pygments_lexer": "ipython3",
   "version": "3.12.4"
  }
 },
 "nbformat": 4,
 "nbformat_minor": 2
}
